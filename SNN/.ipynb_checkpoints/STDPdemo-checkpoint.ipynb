{
 "cells": [
  {
   "cell_type": "markdown",
   "metadata": {},
   "source": [
    "# Unsupervised learning\n",
    "\n",
    "When we do error-modulated learning with the `nengo.PES` rule,\n",
    "we have a pretty clear idea of what we want to happen.\n",
    "Years of neuroscientific experiments have yielded\n",
    "learning rules explaining how synaptic strengths\n",
    "change given certain stimulation protocols.\n",
    "But what do these learning rules actually do\n",
    "to the information transmitted across an\n",
    "ensemble-to-ensemble connection?\n",
    "\n",
    "We can investigate this in Nengo.\n",
    "Currently, we've implemented the `nengo.BCM`\n",
    "and `nengo.Oja` rules."
   ]
  },
  {
   "cell_type": "code",
   "execution_count": 1,
   "metadata": {},
   "outputs": [],
   "source": [
    "import numpy as np\n",
    "import matplotlib.pyplot as plt\n",
    "\n",
    "%matplotlib inline\n",
    "\n",
    "import nengo"
   ]
  },
  {
   "cell_type": "code",
   "execution_count": 2,
   "metadata": {},
   "outputs": [
    {
     "name": "stdout",
     "output_type": "stream",
     "text": [
      "Bienenstock-Cooper-Munroe learning rule.\n",
      "\n",
      "    Modifies connection weights as a function of the presynaptic activity\n",
      "    and the difference between the postsynaptic activity and the average\n",
      "    postsynaptic activity.\n",
      "\n",
      "    Notes\n",
      "    -----\n",
      "    The BCM rule is dependent on pre and post neural activities,\n",
      "    not decoded values, and so is not affected by changes in the\n",
      "    size of pre and post ensembles. However, if you are decoding from\n",
      "    the post ensemble, the BCM rule will have an increased effect on\n",
      "    larger post ensembles because more connection weights are changing.\n",
      "    In these cases, it may be advantageous to scale the learning rate\n",
      "    on the BCM rule by ``1 / post.n_neurons``.\n",
      "\n",
      "    Parameters\n",
      "    ----------\n",
      "    learning_rate : float, optional\n",
      "        A scalar indicating the rate at which weights will be adjusted.\n",
      "    pre_synapse : `.Synapse`, optional\n",
      "        Synapse model used to filter the pre-synaptic activities.\n",
      "    post_synapse : `.Synapse`, optional\n",
      "        Synapse model used to filter the post-synaptic activities.\n",
      "        If None, ``post_synapse`` will be the same as ``pre_synapse``.\n",
      "    theta_synapse : `.Synapse`, optional\n",
      "        Synapse model used to filter the theta signal.\n",
      "\n",
      "    Attributes\n",
      "    ----------\n",
      "    learning_rate : float\n",
      "        A scalar indicating the rate at which weights will be adjusted.\n",
      "    post_synapse : `.Synapse`\n",
      "        Synapse model used to filter the post-synaptic activities.\n",
      "    pre_synapse : `.Synapse`\n",
      "        Synapse model used to filter the pre-synaptic activities.\n",
      "    theta_synapse : `.Synapse`\n",
      "        Synapse model used to filter the theta signal.\n",
      "    \n"
     ]
    }
   ],
   "source": [
    "print(nengo.BCM.__doc__)"
   ]
  },
  {
   "cell_type": "code",
   "execution_count": 3,
   "metadata": {},
   "outputs": [
    {
     "name": "stdout",
     "output_type": "stream",
     "text": [
      "Oja learning rule.\n",
      "\n",
      "    Modifies connection weights according to the Hebbian Oja rule, which\n",
      "    augments typically Hebbian coactivity with a \"forgetting\" term that is\n",
      "    proportional to the weight of the connection and the square of the\n",
      "    postsynaptic activity.\n",
      "\n",
      "    Notes\n",
      "    -----\n",
      "    The Oja rule is dependent on pre and post neural activities,\n",
      "    not decoded values, and so is not affected by changes in the\n",
      "    size of pre and post ensembles. However, if you are decoding from\n",
      "    the post ensemble, the Oja rule will have an increased effect on\n",
      "    larger post ensembles because more connection weights are changing.\n",
      "    In these cases, it may be advantageous to scale the learning rate\n",
      "    on the Oja rule by ``1 / post.n_neurons``.\n",
      "\n",
      "    Parameters\n",
      "    ----------\n",
      "    learning_rate : float, optional\n",
      "        A scalar indicating the rate at which weights will be adjusted.\n",
      "    pre_synapse : `.Synapse`, optional\n",
      "        Synapse model used to filter the pre-synaptic activities.\n",
      "    post_synapse : `.Synapse`, optional\n",
      "        Synapse model used to filter the post-synaptic activities.\n",
      "        If None, ``post_synapse`` will be the same as ``pre_synapse``.\n",
      "    beta : float, optional\n",
      "        A scalar weight on the forgetting term.\n",
      "\n",
      "    Attributes\n",
      "    ----------\n",
      "    beta : float\n",
      "        A scalar weight on the forgetting term.\n",
      "    learning_rate : float\n",
      "        A scalar indicating the rate at which weights will be adjusted.\n",
      "    post_synapse : `.Synapse`\n",
      "        Synapse model used to filter the post-synaptic activities.\n",
      "    pre_synapse : `.Synapse`\n",
      "        Synapse model used to filter the pre-synaptic activities.\n",
      "    \n"
     ]
    }
   ],
   "source": [
    "print(nengo.Oja.__doc__)"
   ]
  },
  {
   "cell_type": "markdown",
   "metadata": {},
   "source": [
    "## Step 1: Create a simple communication channel\n",
    "\n",
    "The only difference between this network and most\n",
    "models you've seen so far is that we're going to\n",
    "set the decoder solver in the communication channel\n",
    "to generate a full connection weight matrix\n",
    "which we can then learn using typical delta learning rules."
   ]
  },
  {
   "cell_type": "code",
   "execution_count": 4,
   "metadata": {},
   "outputs": [],
   "source": [
    "model = nengo.Network()\n",
    "with model:\n",
    "    sin = nengo.Node(lambda t: np.sin(t * 4))\n",
    "\n",
    "    pre = nengo.Ensemble(100, dimensions=1)\n",
    "    post = nengo.Ensemble(100, dimensions=1)\n",
    "\n",
    "    nengo.Connection(sin, pre)\n",
    "    conn = nengo.Connection(pre, post, solver=nengo.solvers.LstsqL2(weights=True))\n",
    "\n",
    "    pre_p = nengo.Probe(pre, synapse=0.01)\n",
    "    post_p = nengo.Probe(post, synapse=0.01)"
   ]
  },
  {
   "cell_type": "code",
   "execution_count": 5,
   "metadata": {},
   "outputs": [
    {
     "data": {
      "application/vdom.v1+json": {
       "attributes": {},
       "tagName": "div"
      },
      "text/html": [
       "\n",
       "                <script>\n",
       "                    if (Jupyter.version.split(\".\")[0] < 5) {\n",
       "                        var pb = document.getElementById(\"fc64e604-19ca-4875-b227-3c7ccbf181f1\");\n",
       "                        var text = document.createTextNode(\n",
       "                            \"HMTL progress bar requires Jupyter Notebook >= \" +\n",
       "                            \"5.0 or Jupyter Lab. Alternatively, you can use \" +\n",
       "                            \"TerminalProgressBar().\");\n",
       "                        pb.parentNode.insertBefore(text, pb);\n",
       "                    }\n",
       "                </script>\n",
       "                <div id=\"fc64e604-19ca-4875-b227-3c7ccbf181f1\" style=\"\n",
       "                    width: 100%;\n",
       "                    border: 1px solid #cfcfcf;\n",
       "                    border-radius: 4px;\n",
       "                    text-align: center;\n",
       "                    position: relative;\">\n",
       "                  <div class=\"pb-text\" style=\"\n",
       "                      position: absolute;\n",
       "                      width: 100%;\">\n",
       "                    0%\n",
       "                  </div>\n",
       "                  <div class=\"pb-fill\" style=\"\n",
       "                      background-color: #bdd2e6;\n",
       "                      width: 0%;\">\n",
       "                    <style type=\"text/css\" scoped=\"scoped\">\n",
       "                        @keyframes pb-fill-anim {\n",
       "                            0% { background-position: 0 0; }\n",
       "                            100% { background-position: 100px 0; }\n",
       "                        }\n",
       "                    </style>\n",
       "                    &nbsp;\n",
       "                  </div>\n",
       "                </div>"
      ],
      "text/plain": [
       "HtmlProgressBar cannot be displayed. Please use the TerminalProgressBar. It can be enabled with `nengo.rc['progress']['progress_bar'] = 'nengo.utils.progress.TerminalProgressBar'`."
      ]
     },
     "metadata": {},
     "output_type": "display_data"
    },
    {
     "data": {
      "application/vdom.v1+json": {
       "attributes": {
        "id": "453bf674-94c4-437f-bf8c-f929b513125d",
        "style": {
         "border": "1px solid #cfcfcf",
         "borderRadius": "4px",
         "boxSizing": "border-box",
         "position": "relative",
         "textAlign": "center",
         "width": "100%"
        }
       },
       "children": [
        {
         "attributes": {
          "class": "pb-text",
          "style": {
           "position": "absolute",
           "width": "100%"
          }
         },
         "children": [
          "Build finished in 0:00:01."
         ],
         "tagName": "div"
        },
        {
         "attributes": {
          "class": "pb-fill",
          "style": {
           "animation": "none",
           "backgroundColor": "#bdd2e6",
           "backgroundImage": "none",
           "backgroundSize": "100px 100%",
           "width": "100%"
          }
         },
         "children": [
          {
           "attributes": {
            "scoped": "scoped",
            "type": "text/css"
           },
           "children": [
            "\n                        @keyframes pb-fill-anim {\n                            0% { background-position: 0 0; }\n                            100% { background-position: 100px 0; }\n                        }}"
           ],
           "tagName": "style"
          },
          " "
         ],
         "tagName": "div"
        }
       ],
       "tagName": "div"
      },
      "text/html": [
       "<script>\n",
       "              (function () {\n",
       "                  var root = document.getElementById('fc64e604-19ca-4875-b227-3c7ccbf181f1');\n",
       "                  var text = root.getElementsByClassName('pb-text')[0];\n",
       "                  var fill = root.getElementsByClassName('pb-fill')[0];\n",
       "\n",
       "                  text.innerHTML = 'Build finished in 0:00:01.';\n",
       "                  \n",
       "            fill.style.width = '100%';\n",
       "            fill.style.animation = 'pb-fill-anim 2s linear infinite';\n",
       "            fill.style.backgroundSize = '100px 100%';\n",
       "            fill.style.backgroundImage = 'repeating-linear-gradient(' +\n",
       "                '90deg, #bdd2e6, #edf2f8 40%, #bdd2e6 80%, #bdd2e6)';\n",
       "        \n",
       "                  \n",
       "                fill.style.animation = 'none';\n",
       "                fill.style.backgroundImage = 'none';\n",
       "            \n",
       "              })();\n",
       "        </script>"
      ]
     },
     "metadata": {},
     "output_type": "display_data"
    },
    {
     "data": {
      "application/vdom.v1+json": {
       "attributes": {},
       "tagName": "div"
      },
      "text/html": [
       "\n",
       "                <script>\n",
       "                    if (Jupyter.version.split(\".\")[0] < 5) {\n",
       "                        var pb = document.getElementById(\"af187435-d64a-44ca-83a2-8761992af0a4\");\n",
       "                        var text = document.createTextNode(\n",
       "                            \"HMTL progress bar requires Jupyter Notebook >= \" +\n",
       "                            \"5.0 or Jupyter Lab. Alternatively, you can use \" +\n",
       "                            \"TerminalProgressBar().\");\n",
       "                        pb.parentNode.insertBefore(text, pb);\n",
       "                    }\n",
       "                </script>\n",
       "                <div id=\"af187435-d64a-44ca-83a2-8761992af0a4\" style=\"\n",
       "                    width: 100%;\n",
       "                    border: 1px solid #cfcfcf;\n",
       "                    border-radius: 4px;\n",
       "                    text-align: center;\n",
       "                    position: relative;\">\n",
       "                  <div class=\"pb-text\" style=\"\n",
       "                      position: absolute;\n",
       "                      width: 100%;\">\n",
       "                    0%\n",
       "                  </div>\n",
       "                  <div class=\"pb-fill\" style=\"\n",
       "                      background-color: #bdd2e6;\n",
       "                      width: 0%;\">\n",
       "                    <style type=\"text/css\" scoped=\"scoped\">\n",
       "                        @keyframes pb-fill-anim {\n",
       "                            0% { background-position: 0 0; }\n",
       "                            100% { background-position: 100px 0; }\n",
       "                        }\n",
       "                    </style>\n",
       "                    &nbsp;\n",
       "                  </div>\n",
       "                </div>"
      ],
      "text/plain": [
       "HtmlProgressBar cannot be displayed. Please use the TerminalProgressBar. It can be enabled with `nengo.rc['progress']['progress_bar'] = 'nengo.utils.progress.TerminalProgressBar'`."
      ]
     },
     "metadata": {},
     "output_type": "display_data"
    },
    {
     "data": {
      "application/vdom.v1+json": {
       "attributes": {
        "id": "95d84622-7efd-4e5a-9b1d-538eb7adf734",
        "style": {
         "border": "1px solid #cfcfcf",
         "borderRadius": "4px",
         "boxSizing": "border-box",
         "position": "relative",
         "textAlign": "center",
         "width": "100%"
        }
       },
       "children": [
        {
         "attributes": {
          "class": "pb-text",
          "style": {
           "position": "absolute",
           "width": "100%"
          }
         },
         "children": [
          "Simulation finished in 0:00:01."
         ],
         "tagName": "div"
        },
        {
         "attributes": {
          "class": "pb-fill",
          "style": {
           "animation": "none",
           "backgroundColor": "#bdd2e6",
           "backgroundImage": "none",
           "transition": "width 0.1s linear",
           "width": "100%"
          }
         },
         "children": [
          {
           "attributes": {
            "scoped": "scoped",
            "type": "text/css"
           },
           "children": [
            "\n                        @keyframes pb-fill-anim {\n                            0% { background-position: 0 0; }\n                            100% { background-position: 100px 0; }\n                        }}"
           ],
           "tagName": "style"
          },
          " "
         ],
         "tagName": "div"
        }
       ],
       "tagName": "div"
      },
      "text/html": [
       "<script>\n",
       "              (function () {\n",
       "                  var root = document.getElementById('af187435-d64a-44ca-83a2-8761992af0a4');\n",
       "                  var text = root.getElementsByClassName('pb-text')[0];\n",
       "                  var fill = root.getElementsByClassName('pb-fill')[0];\n",
       "\n",
       "                  text.innerHTML = 'Simulation finished in 0:00:01.';\n",
       "                  \n",
       "            if (100.0 > 0.) {\n",
       "                fill.style.transition = 'width 0.1s linear';\n",
       "            } else {\n",
       "                fill.style.transition = 'none';\n",
       "            }\n",
       "\n",
       "            fill.style.width = '100.0%';\n",
       "            fill.style.animation = 'none';\n",
       "            fill.style.backgroundImage = 'none'\n",
       "        \n",
       "                  \n",
       "                fill.style.animation = 'none';\n",
       "                fill.style.backgroundImage = 'none';\n",
       "            \n",
       "              })();\n",
       "        </script>"
      ]
     },
     "metadata": {},
     "output_type": "display_data"
    },
    {
     "data": {
      "text/plain": [
       "<matplotlib.legend.Legend at 0x110069af0>"
      ]
     },
     "execution_count": 5,
     "metadata": {},
     "output_type": "execute_result"
    },
    {
     "data": {
      "image/png": "[encoded data removed]",
      "text/plain": [
       "<Figure size 432x288 with 1 Axes>"
      ]
     },
     "metadata": {
      "needs_background": "light"
     },
     "output_type": "display_data"
    }
   ],
   "source": [
    "# Verify that it does a communication channel\n",
    "with nengo.Simulator(model) as sim:\n",
    "    sim.run(2.0)\n",
    "\n",
    "plt.figure()\n",
    "plt.plot(sim.trange(), sim.data[pre_p], label=\"Pre\")\n",
    "plt.plot(sim.trange(), sim.data[post_p], label=\"Post\")\n",
    "plt.ylabel(\"Decoded value\")\n",
    "plt.legend(loc=\"best\")"
   ]
  },
  {
   "cell_type": "markdown",
   "metadata": {},
   "source": [
    "## What does BCM do?"
   ]
  },
  {
   "cell_type": "code",
   "execution_count": 6,
   "metadata": {},
   "outputs": [],
   "source": [
    "conn.learning_rule_type = nengo.BCM(learning_rate=5e-10)\n",
    "with model:\n",
    "    weights_p = nengo.Probe(conn, \"weights\", synapse=0.01, sample_every=0.01)"
   ]
  },
  {
   "cell_type": "code",
   "execution_count": 7,
   "metadata": {},
   "outputs": [
    {
     "data": {
      "application/vdom.v1+json": {
       "attributes": {},
       "tagName": "div"
      },
      "text/html": [
       "\n",
       "                <script>\n",
       "                    if (Jupyter.version.split(\".\")[0] < 5) {\n",
       "                        var pb = document.getElementById(\"67ab1990-6f8b-4290-81ce-e06d4eeeb9bc\");\n",
       "                        var text = document.createTextNode(\n",
       "                            \"HMTL progress bar requires Jupyter Notebook >= \" +\n",
       "                            \"5.0 or Jupyter Lab. Alternatively, you can use \" +\n",
       "                            \"TerminalProgressBar().\");\n",
       "                        pb.parentNode.insertBefore(text, pb);\n",
       "                    }\n",
       "                </script>\n",
       "                <div id=\"67ab1990-6f8b-4290-81ce-e06d4eeeb9bc\" style=\"\n",
       "                    width: 100%;\n",
       "                    border: 1px solid #cfcfcf;\n",
       "                    border-radius: 4px;\n",
       "                    text-align: center;\n",
       "                    position: relative;\">\n",
       "                  <div class=\"pb-text\" style=\"\n",
       "                      position: absolute;\n",
       "                      width: 100%;\">\n",
       "                    0%\n",
       "                  </div>\n",
       "                  <div class=\"pb-fill\" style=\"\n",
       "                      background-color: #bdd2e6;\n",
       "                      width: 0%;\">\n",
       "                    <style type=\"text/css\" scoped=\"scoped\">\n",
       "                        @keyframes pb-fill-anim {\n",
       "                            0% { background-position: 0 0; }\n",
       "                            100% { background-position: 100px 0; }\n",
       "                        }\n",
       "                    </style>\n",
       "                    &nbsp;\n",
       "                  </div>\n",
       "                </div>"
      ],
      "text/plain": [
       "HtmlProgressBar cannot be displayed. Please use the TerminalProgressBar. It can be enabled with `nengo.rc['progress']['progress_bar'] = 'nengo.utils.progress.TerminalProgressBar'`."
      ]
     },
     "metadata": {},
     "output_type": "display_data"
    },
    {
     "data": {
      "application/vdom.v1+json": {
       "attributes": {
        "id": "8ba766a1-0f3c-49d7-b964-ac3f9141dacc",
        "style": {
         "border": "1px solid #cfcfcf",
         "borderRadius": "4px",
         "boxSizing": "border-box",
         "position": "relative",
         "textAlign": "center",
         "width": "100%"
        }
       },
       "children": [
        {
         "attributes": {
          "class": "pb-text",
          "style": {
           "position": "absolute",
           "width": "100%"
          }
         },
         "children": [
          "Build finished in 0:00:01."
         ],
         "tagName": "div"
        },
        {
         "attributes": {
          "class": "pb-fill",
          "style": {
           "animation": "none",
           "backgroundColor": "#bdd2e6",
           "backgroundImage": "none",
           "backgroundSize": "100px 100%",
           "width": "100%"
          }
         },
         "children": [
          {
           "attributes": {
            "scoped": "scoped",
            "type": "text/css"
           },
           "children": [
            "\n                        @keyframes pb-fill-anim {\n                            0% { background-position: 0 0; }\n                            100% { background-position: 100px 0; }\n                        }}"
           ],
           "tagName": "style"
          },
          " "
         ],
         "tagName": "div"
        }
       ],
       "tagName": "div"
      },
      "text/html": [
       "<script>\n",
       "              (function () {\n",
       "                  var root = document.getElementById('67ab1990-6f8b-4290-81ce-e06d4eeeb9bc');\n",
       "                  var text = root.getElementsByClassName('pb-text')[0];\n",
       "                  var fill = root.getElementsByClassName('pb-fill')[0];\n",
       "\n",
       "                  text.innerHTML = 'Build finished in 0:00:01.';\n",
       "                  \n",
       "            fill.style.width = '100%';\n",
       "            fill.style.animation = 'pb-fill-anim 2s linear infinite';\n",
       "            fill.style.backgroundSize = '100px 100%';\n",
       "            fill.style.backgroundImage = 'repeating-linear-gradient(' +\n",
       "                '90deg, #bdd2e6, #edf2f8 40%, #bdd2e6 80%, #bdd2e6)';\n",
       "        \n",
       "                  \n",
       "                fill.style.animation = 'none';\n",
       "                fill.style.backgroundImage = 'none';\n",
       "            \n",
       "              })();\n",
       "        </script>"
      ]
     },
     "metadata": {},
     "output_type": "display_data"
    },
    {
     "data": {
      "application/vdom.v1+json": {
       "attributes": {},
       "tagName": "div"
      },
      "text/html": [
       "\n",
       "                <script>\n",
       "                    if (Jupyter.version.split(\".\")[0] < 5) {\n",
       "                        var pb = document.getElementById(\"4b9a2600-af47-42bf-8ea0-8eda2c9bfcc2\");\n",
       "                        var text = document.createTextNode(\n",
       "                            \"HMTL progress bar requires Jupyter Notebook >= \" +\n",
       "                            \"5.0 or Jupyter Lab. Alternatively, you can use \" +\n",
       "                            \"TerminalProgressBar().\");\n",
       "                        pb.parentNode.insertBefore(text, pb);\n",
       "                    }\n",
       "                </script>\n",
       "                <div id=\"4b9a2600-af47-42bf-8ea0-8eda2c9bfcc2\" style=\"\n",
       "                    width: 100%;\n",
       "                    border: 1px solid #cfcfcf;\n",
       "                    border-radius: 4px;\n",
       "                    text-align: center;\n",
       "                    position: relative;\">\n",
       "                  <div class=\"pb-text\" style=\"\n",
       "                      position: absolute;\n",
       "                      width: 100%;\">\n",
       "                    0%\n",
       "                  </div>\n",
       "                  <div class=\"pb-fill\" style=\"\n",
       "                      background-color: #bdd2e6;\n",
       "                      width: 0%;\">\n",
       "                    <style type=\"text/css\" scoped=\"scoped\">\n",
       "                        @keyframes pb-fill-anim {\n",
       "                            0% { background-position: 0 0; }\n",
       "                            100% { background-position: 100px 0; }\n",
       "                        }\n",
       "                    </style>\n",
       "                    &nbsp;\n",
       "                  </div>\n",
       "                </div>"
      ],
      "text/plain": [
       "HtmlProgressBar cannot be displayed. Please use the TerminalProgressBar. It can be enabled with `nengo.rc['progress']['progress_bar'] = 'nengo.utils.progress.TerminalProgressBar'`."
      ]
     },
     "metadata": {},
     "output_type": "display_data"
    },
    {
     "data": {
      "application/vdom.v1+json": {
       "attributes": {
        "id": "f35d69ea-c588-4ac9-b5cf-7bce2aea3aaf",
        "style": {
         "border": "1px solid #cfcfcf",
         "borderRadius": "4px",
         "boxSizing": "border-box",
         "position": "relative",
         "textAlign": "center",
         "width": "100%"
        }
       },
       "children": [
        {
         "attributes": {
          "class": "pb-text",
          "style": {
           "position": "absolute",
           "width": "100%"
          }
         },
         "children": [
          "Simulation finished in 0:00:07."
         ],
         "tagName": "div"
        },
        {
         "attributes": {
          "class": "pb-fill",
          "style": {
           "animation": "none",
           "backgroundColor": "#bdd2e6",
           "backgroundImage": "none",
           "transition": "width 0.1s linear",
           "width": "100%"
          }
         },
         "children": [
          {
           "attributes": {
            "scoped": "scoped",
            "type": "text/css"
           },
           "children": [
            "\n                        @keyframes pb-fill-anim {\n                            0% { background-position: 0 0; }\n                            100% { background-position: 100px 0; }\n                        }}"
           ],
           "tagName": "style"
          },
          " "
         ],
         "tagName": "div"
        }
       ],
       "tagName": "div"
      },
      "text/html": [
       "<script>\n",
       "              (function () {\n",
       "                  var root = document.getElementById('4b9a2600-af47-42bf-8ea0-8eda2c9bfcc2');\n",
       "                  var text = root.getElementsByClassName('pb-text')[0];\n",
       "                  var fill = root.getElementsByClassName('pb-fill')[0];\n",
       "\n",
       "                  text.innerHTML = 'Simulation finished in 0:00:07.';\n",
       "                  \n",
       "            if (100.0 > 0.) {\n",
       "                fill.style.transition = 'width 0.1s linear';\n",
       "            } else {\n",
       "                fill.style.transition = 'none';\n",
       "            }\n",
       "\n",
       "            fill.style.width = '100.0%';\n",
       "            fill.style.animation = 'none';\n",
       "            fill.style.backgroundImage = 'none'\n",
       "        \n",
       "                  \n",
       "                fill.style.animation = 'none';\n",
       "                fill.style.backgroundImage = 'none';\n",
       "            \n",
       "              })();\n",
       "        </script>"
      ]
     },
     "metadata": {},
     "output_type": "display_data"
    }
   ],
   "source": [
    "with nengo.Simulator(model) as sim:\n",
    "    sim.run(20.0)"
   ]
  },
  {
   "cell_type": "code",
   "execution_count": 8,
   "metadata": {},
   "outputs": [
    {
     "data": {
      "text/plain": [
       "Text(0, 0.5, 'Connection weight')"
      ]
     },
     "execution_count": 8,
     "metadata": {},
     "output_type": "execute_result"
    },
    {
     "data": {
      "image/png": "[encoded data removed]",
      "text/plain": [
       "<Figure size 864x576 with 2 Axes>"
      ]
     },
     "metadata": {
      "needs_background": "light"
     },
     "output_type": "display_data"
    }
   ],
   "source": [
    "plt.figure(figsize=(12, 8))\n",
    "plt.subplot(2, 1, 1)\n",
    "plt.plot(sim.trange(), sim.data[pre_p], label=\"Pre\")\n",
    "plt.plot(sim.trange(), sim.data[post_p], label=\"Post\")\n",
    "plt.ylabel(\"Decoded value\")\n",
    "plt.ylim(-1.6, 1.6)\n",
    "plt.legend(loc=\"lower left\")\n",
    "plt.subplot(2, 1, 2)\n",
    "# Find weight row with max variance\n",
    "neuron = np.argmax(np.mean(np.var(sim.data[weights_p], axis=0), axis=1))\n",
    "plt.plot(sim.trange(sample_every=0.01), sim.data[weights_p][..., neuron])\n",
    "plt.ylabel(\"Connection weight\")"
   ]
  },
  {
   "cell_type": "markdown",
   "metadata": {},
   "source": [
    "The BCM rule appears to cause the ensemble\n",
    "to either be on or off.\n",
    "This seems consistent with the idea that it potentiates\n",
    "active synapses, and depresses non-active synapses.\n",
    "\n",
    "As well, we can show that BCM sparsifies the weights.\n",
    "The sparsity measure below uses the Gini measure of sparsity,\n",
    "for reasons explained [in this paper](https://arxiv.org/pdf/0811.4706.pdf)."
   ]
  },
  {
   "cell_type": "code",
   "execution_count": null,
   "metadata": {},
   "outputs": [],
   "source": [
    "def sparsity_measure(vector):  # Gini index\n",
    "    # Max sparsity = 1 (single 1 in the vector)\n",
    "    v = np.sort(np.abs(vector))\n",
    "    n = v.shape[0]\n",
    "    k = np.arange(n) + 1\n",
    "    l1norm = np.sum(v)\n",
    "    summation = np.sum((v / l1norm) * ((n - k + 0.5) / n))\n",
    "    return 1 - 2 * summation\n",
    "\n",
    "\n",
    "print(f\"Starting sparsity: {sparsity_measure(sim.data[weights_p][0])}\")\n",
    "print(f\"Ending sparsity: {sparsity_measure(sim.data[weights_p][-1])}\")"
   ]
  },
  {
   "cell_type": "markdown",
   "metadata": {},
   "source": [
    "## What does Oja do?"
   ]
  },
  {
   "cell_type": "code",
   "execution_count": null,
   "metadata": {},
   "outputs": [],
   "source": [
    "conn.learning_rule_type = nengo.Oja(learning_rate=6e-8)"
   ]
  },
  {
   "cell_type": "code",
   "execution_count": null,
   "metadata": {},
   "outputs": [],
   "source": [
    "with nengo.Simulator(model) as sim:\n",
    "    sim.run(20.0)"
   ]
  },
  {
   "cell_type": "code",
   "execution_count": null,
   "metadata": {},
   "outputs": [],
   "source": [
    "plt.figure(figsize=(12, 8))\n",
    "plt.subplot(2, 1, 1)\n",
    "plt.plot(sim.trange(), sim.data[pre_p], label=\"Pre\")\n",
    "plt.plot(sim.trange(), sim.data[post_p], label=\"Post\")\n",
    "plt.ylabel(\"Decoded value\")\n",
    "plt.ylim(-1.6, 1.6)\n",
    "plt.legend(loc=\"lower left\")\n",
    "plt.subplot(2, 1, 2)\n",
    "# Find weight row with max variance\n",
    "neuron = np.argmax(np.mean(np.var(sim.data[weights_p], axis=0), axis=1))\n",
    "plt.plot(sim.trange(sample_every=0.01), sim.data[weights_p][..., neuron])\n",
    "plt.ylabel(\"Connection weight\")\n",
    "print(f\"Starting sparsity: {sparsity_measure(sim.data[weights_p][0])}\")\n",
    "print(f\"Ending sparsity: {sparsity_measure(sim.data[weights_p][-1])}\")"
   ]
  },
  {
   "cell_type": "markdown",
   "metadata": {},
   "source": [
    "The Oja rule seems to attenuate the signal across the connection."
   ]
  },
  {
   "cell_type": "markdown",
   "metadata": {},
   "source": [
    "## What do BCM and Oja together do?\n",
    "\n",
    "We can apply both learning rules to the same connection\n",
    "by passing a list to `learning_rule_type`."
   ]
  },
  {
   "cell_type": "code",
   "execution_count": null,
   "metadata": {},
   "outputs": [],
   "source": [
    "conn.learning_rule_type = [\n",
    "    nengo.BCM(learning_rate=5e-10),\n",
    "    nengo.Oja(learning_rate=2e-9),\n",
    "]"
   ]
  },
  {
   "cell_type": "code",
   "execution_count": null,
   "metadata": {},
   "outputs": [],
   "source": [
    "with nengo.Simulator(model) as sim:\n",
    "    sim.run(20.0)"
   ]
  },
  {
   "cell_type": "code",
   "execution_count": null,
   "metadata": {},
   "outputs": [],
   "source": [
    "plt.figure(figsize=(12, 8))\n",
    "plt.subplot(2, 1, 1)\n",
    "plt.plot(sim.trange(), sim.data[pre_p], label=\"Pre\")\n",
    "plt.plot(sim.trange(), sim.data[post_p], label=\"Post\")\n",
    "plt.ylabel(\"Decoded value\")\n",
    "plt.ylim(-1.6, 1.6)\n",
    "plt.legend(loc=\"lower left\")\n",
    "plt.subplot(2, 1, 2)\n",
    "# Find weight row with max variance\n",
    "neuron = np.argmax(np.mean(np.var(sim.data[weights_p], axis=0), axis=1))\n",
    "plt.plot(sim.trange(sample_every=0.01), sim.data[weights_p][..., neuron])\n",
    "plt.ylabel(\"Connection weight\")\n",
    "print(f\"Starting sparsity: {sparsity_measure(sim.data[weights_p][0])}\")\n",
    "print(f\"Ending sparsity: {sparsity_measure(sim.data[weights_p][-1])}\")"
   ]
  },
  {
   "cell_type": "markdown",
   "metadata": {},
   "source": [
    "The combination of the two appears to accentuate\n",
    "the on-off nature of the BCM rule.\n",
    "As the Oja rule enforces a soft upper or lower bound\n",
    "for the connection weight, the combination\n",
    "of both rules may be more stable than BCM alone.\n",
    "\n",
    "That's mostly conjecture, however;\n",
    "a thorough investigation of the BCM and Oja rules\n",
    "and how they interact has not yet been done."
   ]
  }
 ],
 "metadata": {
  "kernelspec": {
   "display_name": "Python 3",
   "language": "python",
   "name": "python3"
  },
  "language_info": {
   "codemirror_mode": {
    "name": "ipython",
    "version": 3
   },
   "file_extension": ".py",
   "mimetype": "text/x-python",
   "name": "python",
   "nbconvert_exporter": "python",
   "pygments_lexer": "ipython3",
   "version": "3.9.7"
  }
 },
 "nbformat": 4,
 "nbformat_minor": 2
}
